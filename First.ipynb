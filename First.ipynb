{
 "cells": [
  {
   "cell_type": "code",
   "execution_count": 1,
   "id": "f23b60f9",
   "metadata": {},
   "outputs": [],
   "source": [
    "import hashlib"
   ]
  },
  {
   "cell_type": "code",
   "execution_count": 6,
   "id": "967c9d76",
   "metadata": {},
   "outputs": [],
   "source": [
    "def hashgenerator(data):\n",
    "    result=hashlib.sha256(data.encode())\n",
    "    return result.hexdigest()"
   ]
  },
  {
   "cell_type": "code",
   "execution_count": 7,
   "id": "55ef939f",
   "metadata": {},
   "outputs": [],
   "source": [
    "class block:\n",
    "    def __init__(self,data,hash,prev_hash):\n",
    "        self.data=data\n",
    "        self.hash=hash\n",
    "        self.prev_hash=prev_hash"
   ]
  },
  {
   "cell_type": "code",
   "execution_count": 12,
   "id": "f71e4549",
   "metadata": {},
   "outputs": [],
   "source": [
    "class Blockchain:\n",
    "    def __init__(self):\n",
    "        hashLast=hashgenerator('exp_last')\n",
    "        hashStart=hashgenerator('exp_first')\n",
    "        \n",
    "        genesis=block('exp-data',hashStart,hashLast)\n",
    "        self.chain=[genesis]\n",
    "        \n",
    "    def add_block(self,data):\n",
    "        prev_hash=self.chain[-1].hash\n",
    "        hash=hashgenerator(data+prev_hash)\n",
    "        Block=block(data,hash,prev_hash)\n",
    "        self.chain.append(Block)"
   ]
  },
  {
   "cell_type": "code",
   "execution_count": 13,
   "id": "97cb5fbc",
   "metadata": {},
   "outputs": [],
   "source": [
    "BC=Blockchain()\n",
    "BC.add_block('1')\n",
    "BC.add_block('2')\n",
    "BC.add_block('3')"
   ]
  },
  {
   "cell_type": "code",
   "execution_count": 15,
   "id": "cca8175e",
   "metadata": {},
   "outputs": [
    {
     "name": "stdout",
     "output_type": "stream",
     "text": [
      "{'data': 'exp-data', 'hash': '1fdb69ee06863462bb6948170a02967d8eec4137f55d1ee07940524517d0f87f', 'prev_hash': '6c2d4013be82a3f4d59fb90f85e542d0f4cd3780d31196fed19775c35bcb41b3'}\n",
      "{'data': '1', 'hash': '584e501350fc7b1d0604810ef1acf8f31bea2d3a0ffb5ab169d1fecadb907e53', 'prev_hash': '1fdb69ee06863462bb6948170a02967d8eec4137f55d1ee07940524517d0f87f'}\n",
      "{'data': '2', 'hash': 'f47b1bdb16b70d530c6cbab6b19e9318f371944c80a262ae06a8c5be99161e65', 'prev_hash': '584e501350fc7b1d0604810ef1acf8f31bea2d3a0ffb5ab169d1fecadb907e53'}\n",
      "{'data': '3', 'hash': '0c6fa87d508d10fab182ad0ac53855da623501c82a2ccd955ec5d0119ae1f5da', 'prev_hash': 'f47b1bdb16b70d530c6cbab6b19e9318f371944c80a262ae06a8c5be99161e65'}\n"
     ]
    }
   ],
   "source": [
    "for i in BC.chain:\n",
    "    print(i.__dict__)"
   ]
  }
 ],
 "metadata": {
  "kernelspec": {
   "display_name": "Python 3 (ipykernel)",
   "language": "python",
   "name": "python3"
  },
  "language_info": {
   "codemirror_mode": {
    "name": "ipython",
    "version": 3
   },
   "file_extension": ".py",
   "mimetype": "text/x-python",
   "name": "python",
   "nbconvert_exporter": "python",
   "pygments_lexer": "ipython3",
   "version": "3.11.1"
  }
 },
 "nbformat": 4,
 "nbformat_minor": 5
}
